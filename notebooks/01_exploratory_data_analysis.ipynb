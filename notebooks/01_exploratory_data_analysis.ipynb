{
 "cells": [
  {
   "cell_type": "markdown",
   "metadata": {},
   "source": [
    "# Análisis Exploratorio de Datos (EDA) - Coffee Quality Database\n",
    "\n",
    "Este notebook contiene el análisis exploratorio inicial del dataset de calidad del café del Coffee Quality Institute (CQI).\n",
    "\n",
    "## Objetivos:\n",
    "1. Cargar y entender la estructura de los datos\n",
    "2. Analizar variables y sus distribuciones\n",
    "3. Identificar valores faltantes y outliers\n",
    "4. Explorar correlaciones entre variables\n",
    "5. Visualizar patrones y tendencias\n",
    "\n",
    "**Autor:** Ricardo Contreras, Daniel Leon, Santiago Graciano  \n",
    "**Fecha:** Octubre 2025"
   ]
  },
  {
   "cell_type": "markdown",
   "metadata": {},
   "source": [
    "## 1. Configuración e Importación de Librerías"
   ]
  },
  {
   "cell_type": "code",
   "execution_count": null,
   "metadata": {},
   "outputs": [],
   "source": [
    "# Importaciones estándar\n",
    "import sys\n",
    "from pathlib import Path\n",
    "import warnings\n",
    "\n",
    "# Análisis de datos\n",
    "import pandas as pd\n",
    "import numpy as np\n",
    "\n",
    "# Visualización\n",
    "import matplotlib.pyplot as plt\n",
    "import seaborn as sns\n",
    "import plotly.express as px\n",
    "import plotly.graph_objects as go\n",
    "\n",
    "# Configuración\n",
    "warnings.filterwarnings('ignore')\n",
    "pd.set_option('display.max_columns', None)\n",
    "pd.set_option('display.max_rows', 100)\n",
    "plt.style.use('seaborn-v0_8-darkgrid')\n",
    "sns.set_palette(\"husl\")\n",
    "\n",
    "# Agregar src al path para imports\n",
    "project_root = Path.cwd().parent\n",
    "sys.path.append(str(project_root / 'src'))\n",
    "\n",
    "print(\"✓ Librerías importadas correctamente\")\n",
    "print(f\"✓ Pandas version: {pd.__version__}\")\n",
    "print(f\"✓ NumPy version: {np.__version__}\")"
   ]
  },
  {
   "cell_type": "markdown",
   "metadata": {},
   "source": [
    "## 2. Carga de Datos"
   ]
  },
  {
   "cell_type": "code",
   "execution_count": null,
   "metadata": {},
   "outputs": [],
   "source": [
    "# Rutas a los datos\n",
    "data_path = project_root / 'data' / 'raw'\n",
    "\n",
    "# Cargar datasets\n",
    "arabica_df = pd.read_csv(data_path / 'arabica_data_cleaned.csv')\n",
    "robusta_df = pd.read_csv(data_path / 'robusta_data_cleaned.csv')\n",
    "\n",
    "print(f\"✓ Dataset Arábica cargado: {arabica_df.shape}\")\n",
    "print(f\"✓ Dataset Robusta cargado: {robusta_df.shape}\")"
   ]
  },
  {
   "cell_type": "markdown",
   "metadata": {},
   "source": [
    "## 3. Exploración Inicial"
   ]
  },
  {
   "cell_type": "code",
   "execution_count": null,
   "metadata": {},
   "outputs": [],
   "source": [
    "# Primeras filas del dataset de Arábica\n",
    "print(\"=== CAFÉ ARÁBICA - Primeras 5 filas ===\")\n",
    "display(arabica_df.head())"
   ]
  },
  {
   "cell_type": "code",
   "execution_count": null,
   "metadata": {},
   "outputs": [],
   "source": [
    "# Información general\n",
    "print(\"=== INFORMACIÓN GENERAL - ARÁBICA ===\")\n",
    "arabica_df.info()"
   ]
  },
  {
   "cell_type": "code",
   "execution_count": null,
   "metadata": {},
   "outputs": [],
   "source": [
    "# Estadísticas descriptivas\n",
    "print(\"=== ESTADÍSTICAS DESCRIPTIVAS - ARÁBICA ===\")\n",
    "display(arabica_df.describe())"
   ]
  },
  {
   "cell_type": "markdown",
   "metadata": {},
   "source": [
    "## 4. Análisis de Variables"
   ]
  },
  {
   "cell_type": "code",
   "execution_count": null,
   "metadata": {},
   "outputs": [],
   "source": [
    "# Análisis de la variable objetivo: Total Cup Points\n",
    "print(\"=== ANÁLISIS DE LA VARIABLE OBJETIVO ===\")\n",
    "print(f\"Media: {arabica_df['Total.Cup.Points'].mean():.2f}\")\n",
    "print(f\"Mediana: {arabica_df['Total.Cup.Points'].median():.2f}\")\n",
    "print(f\"Desviación estándar: {arabica_df['Total.Cup.Points'].std():.2f}\")\n",
    "print(f\"Mínimo: {arabica_df['Total.Cup.Points'].min():.2f}\")\n",
    "print(f\"Máximo: {arabica_df['Total.Cup.Points'].max():.2f}\")"
   ]
  },
  {
   "cell_type": "markdown",
   "metadata": {},
   "source": [
    "## 5. Valores Faltantes"
   ]
  },
  {
   "cell_type": "code",
   "execution_count": null,
   "metadata": {},
   "outputs": [],
   "source": [
    "# Análisis de valores faltantes\n",
    "missing_data = arabica_df.isnull().sum()\n",
    "missing_percent = (missing_data / len(arabica_df)) * 100\n",
    "missing_df = pd.DataFrame({\n",
    "    'Valores Faltantes': missing_data,\n",
    "    'Porcentaje': missing_percent\n",
    "}).sort_values(by='Porcentaje', ascending=False)\n",
    "\n",
    "print(\"=== VALORES FALTANTES ===\")\n",
    "display(missing_df[missing_df['Valores Faltantes'] > 0])"
   ]
  },
  {
   "cell_type": "code",
   "execution_count": null,
   "metadata": {},
   "outputs": [],
   "source": [
    "# Visualización de valores faltantes\n",
    "fig, ax = plt.subplots(figsize=(12, 6))\n",
    "missing_plot = missing_df[missing_df['Valores Faltantes'] > 0].head(20)\n",
    "sns.barplot(x=missing_plot.index, y='Porcentaje', data=missing_plot, ax=ax)\n",
    "ax.set_title('Top 20 Variables con Valores Faltantes', fontsize=14, fontweight='bold')\n",
    "ax.set_xlabel('Variables')\n",
    "ax.set_ylabel('Porcentaje de Valores Faltantes (%)')\n",
    "plt.xticks(rotation=45, ha='right')\n",
    "plt.tight_layout()\n",
    "plt.show()"
   ]
  },
  {
   "cell_type": "markdown",
   "metadata": {},
   "source": [
    "## 6. Distribuciones de Variables Numéricas"
   ]
  },
  {
   "cell_type": "code",
   "execution_count": null,
   "metadata": {},
   "outputs": [],
   "source": [
    "# Seleccionar variables numéricas relevantes\n",
    "numeric_cols = arabica_df.select_dtypes(include=[np.number]).columns.tolist()\n",
    "\n",
    "# Variables sensoriales importantes\n",
    "sensory_vars = [\n",
    "    'Total.Cup.Points', 'Aroma', 'Flavor', 'Aftertaste', \n",
    "    'Acidity', 'Body', 'Balance', 'Uniformity', \n",
    "    'Clean.Cup', 'Sweetness'\n",
    "]\n",
    "\n",
    "# Filtrar variables que existan en el dataset\n",
    "sensory_vars = [col for col in sensory_vars if col in numeric_cols]\n",
    "\n",
    "print(f\"Variables sensoriales disponibles: {len(sensory_vars)}\")"
   ]
  },
  {
   "cell_type": "code",
   "execution_count": null,
   "metadata": {},
   "outputs": [],
   "source": [
    "# Histogramas de variables sensoriales\n",
    "fig, axes = plt.subplots(3, 4, figsize=(16, 10))\n",
    "axes = axes.ravel()\n",
    "\n",
    "for idx, col in enumerate(sensory_vars[:12]):\n",
    "    axes[idx].hist(arabica_df[col].dropna(), bins=30, edgecolor='black', alpha=0.7)\n",
    "    axes[idx].set_title(col, fontweight='bold')\n",
    "    axes[idx].set_xlabel('Puntaje')\n",
    "    axes[idx].set_ylabel('Frecuencia')\n",
    "    axes[idx].grid(alpha=0.3)\n",
    "\n",
    "plt.tight_layout()\n",
    "plt.suptitle('Distribución de Variables Sensoriales - Café Arábica', \n",
    "             y=1.02, fontsize=16, fontweight='bold')\n",
    "plt.show()"
   ]
  },
  {
   "cell_type": "markdown",
   "metadata": {},
   "source": [
    "## 7. Matriz de Correlación"
   ]
  },
  {
   "cell_type": "code",
   "execution_count": null,
   "metadata": {},
   "outputs": [],
   "source": [
    "# Calcular matriz de correlación\n",
    "correlation_matrix = arabica_df[sensory_vars].corr()\n",
    "\n",
    "# Visualizar matriz de correlación\n",
    "fig, ax = plt.subplots(figsize=(12, 10))\n",
    "sns.heatmap(correlation_matrix, annot=True, fmt='.2f', cmap='coolwarm', \n",
    "            center=0, square=True, linewidths=1, cbar_kws={\"shrink\": 0.8})\n",
    "ax.set_title('Matriz de Correlación - Variables Sensoriales', \n",
    "             fontsize=14, fontweight='bold', pad=20)\n",
    "plt.tight_layout()\n",
    "plt.show()"
   ]
  },
  {
   "cell_type": "markdown",
   "metadata": {},
   "source": [
    "## 8. Análisis por País de Origen"
   ]
  },
  {
   "cell_type": "code",
   "execution_count": null,
   "metadata": {},
   "outputs": [],
   "source": [
    "# Top países productores\n",
    "if 'Country.of.Origin' in arabica_df.columns:\n",
    "    top_countries = arabica_df['Country.of.Origin'].value_counts().head(15)\n",
    "    \n",
    "    fig, ax = plt.subplots(figsize=(12, 6))\n",
    "    top_countries.plot(kind='barh', ax=ax)\n",
    "    ax.set_title('Top 15 Países Productores de Café Arábica', \n",
    "                 fontsize=14, fontweight='bold')\n",
    "    ax.set_xlabel('Número de Muestras')\n",
    "    ax.set_ylabel('País')\n",
    "    plt.tight_layout()\n",
    "    plt.show()\n",
    "    \n",
    "    print(\"\\n=== TOP 10 PAÍSES PRODUCTORES ===\")\n",
    "    display(top_countries.head(10))"
   ]
  },
  {
   "cell_type": "markdown",
   "metadata": {},
   "source": [
    "## 9. Conclusiones Preliminares\n",
    "\n",
    "**A completar después del análisis:**\n",
    "\n",
    "1. Descripción general de los datos\n",
    "2. Principales hallazgos sobre la calidad del café\n",
    "3. Variables con mayor correlación\n",
    "4. Problemas identificados (valores faltantes, outliers)\n",
    "5. Próximos pasos para el preprocesamiento"
   ]
  },
  {
   "cell_type": "markdown",
   "metadata": {},
   "source": [
    "## 10. Guardar Observaciones Clave"
   ]
  },
  {
   "cell_type": "code",
   "execution_count": null,
   "metadata": {},
   "outputs": [],
   "source": [
    "# Crear diccionario con hallazgos clave\n",
    "eda_findings = {\n",
    "    'total_samples_arabica': len(arabica_df),\n",
    "    'total_samples_robusta': len(robusta_df),\n",
    "    'features_count': len(arabica_df.columns),\n",
    "    'missing_values_summary': missing_df.to_dict(),\n",
    "    'target_mean': arabica_df['Total.Cup.Points'].mean(),\n",
    "    'target_std': arabica_df['Total.Cup.Points'].std(),\n",
    "}\n",
    "\n",
    "print(\"✓ Hallazgos clave guardados para referencia\")"
   ]
  }
 ],
 "metadata": {
  "kernelspec": {
   "display_name": "Python 3",
   "language": "python",
   "name": "python3"
  },
  "language_info": {
   "codemirror_mode": {
    "name": "ipython",
    "version": 3
   },
   "file_extension": ".py",
   "mimetype": "text/x-python",
   "name": "python",
   "nbconvert_exporter": "python",
   "pygments_lexer": "ipython3",
   "version": "3.12.3"
  }
 },
 "nbformat": 4,
 "nbformat_minor": 4
}
